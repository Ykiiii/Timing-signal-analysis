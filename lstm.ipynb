{
 "cells": [
  {
   "cell_type": "markdown",
   "metadata": {},
   "source": [
    "## 获取数据"
   ]
  },
  {
   "cell_type": "code",
   "execution_count": 1,
   "metadata": {},
   "outputs": [
    {
     "name": "stdout",
     "output_type": "stream",
     "text": [
      "                Open      High       Low     Close    Volume   label\n",
      "Date                                                                \n",
      "2023-12-29  139.6300  140.3600  138.7800  139.6900  18733017  131.94\n",
      "2023-12-28  140.7800  141.1400  139.7500  140.2300  16045712  132.57\n",
      "2023-12-27  141.5900  142.0800  139.8860  140.3700  19628618  132.52\n",
      "2023-12-26  141.5900  142.6800  141.1900  141.5200  16780333  133.29\n",
      "2023-12-22  140.7700  141.9900  140.7100  141.4900  26532199  134.99\n",
      "...              ...       ...       ...       ...       ...     ...\n",
      "2020-01-08   69.7410   70.5925   69.6315   70.2520  35325480     NaN\n",
      "2020-01-07   70.0230   70.1750   69.5780   69.7555  34529120     NaN\n",
      "2020-01-06   67.5815   69.9160   67.5500   69.8905  46786860     NaN\n",
      "2020-01-03   67.4000   68.6875   67.3660   68.0760  23412580     NaN\n",
      "2020-01-02   67.4205   68.4340   67.3245   68.4340  27285300     NaN\n",
      "\n",
      "[1006 rows x 6 columns]\n"
     ]
    }
   ],
   "source": [
    "import pandas_datareader.data as web\n",
    "import datetime\n",
    "start = datetime.datetime(2020, 1, 1)\n",
    "end = datetime.datetime(2024, 1, 1)\n",
    "df = web.DataReader('GOOGL', 'stooq', start, end)\n",
    "per_days = 10\n",
    "df['label'] = df['Close'].shift(-per_days)\n",
    "print(df)"
   ]
  },
  {
   "cell_type": "markdown",
   "metadata": {},
   "source": [
    "## 标准化\n",
    "fit_transform方法首先计算选定列的均值和标准差（即拟合数据），然后将数据转换（缩放）为均值为0，标准差为1的分布。转换后的数据被赋值给变量X。"
   ]
  },
  {
   "cell_type": "code",
   "execution_count": 3,
   "metadata": {},
   "outputs": [
    {
     "name": "stdout",
     "output_type": "stream",
     "text": [
      "[[ 1.26518345  1.23787354  1.28886469  1.2676006  -1.05082779]\n",
      " [ 1.31089744  1.26874918  1.32770914  1.28911254 -1.22989906]\n",
      " [ 1.34309598  1.30595829  1.33315537  1.29468971 -0.99114851]\n",
      " ...\n",
      " [-1.59883732 -1.55059286 -1.56359964 -1.51299633  0.81856825]\n",
      " [-1.60605218 -1.599222   -1.57096807 -1.58528042 -0.7390004 ]\n",
      " [-1.60523727 -1.60925658 -1.57262997 -1.5710188  -0.48093781]]\n"
     ]
    }
   ],
   "source": [
    "from sklearn.preprocessing import StandardScaler\n",
    "scaler = StandardScaler()\n",
    "sca_X = scaler.fit_transform(df.iloc[:,:-1])\n",
    "print(sca_X)"
   ]
  },
  {
   "cell_type": "markdown",
   "metadata": {},
   "source": [
    "## 输入输出"
   ]
  },
  {
   "cell_type": "code",
   "execution_count": 9,
   "metadata": {},
   "outputs": [
    {
     "name": "stdout",
     "output_type": "stream",
     "text": [
      "992\n",
      "10\n"
     ]
    }
   ],
   "source": [
    "mem_his_days = 5\n",
    "from collections import deque\n",
    "deq = deque(maxlen=mem_his_days)\n",
    "\n",
    "X = []\n",
    "for i in sca_X:\n",
    "    deq.append(list(i))\n",
    "    if len(deq)==mem_his_days:\n",
    "        X.append(list(deq))\n",
    "\n",
    "X_lately = X[-per_days:]\n",
    "X = X[:-per_days]\n",
    "print(len(X))\n",
    "print(len(X_lately))"
   ]
  },
  {
   "cell_type": "code",
   "execution_count": 13,
   "metadata": {},
   "outputs": [
    {
     "name": "stdout",
     "output_type": "stream",
     "text": [
      "992\n"
     ]
    }
   ],
   "source": [
    "y = df['label'].values[mem_his_days-1:-per_days]\n",
    "print(len(y))"
   ]
  },
  {
   "cell_type": "code",
   "execution_count": 15,
   "metadata": {},
   "outputs": [
    {
     "name": "stdout",
     "output_type": "stream",
     "text": [
      "(992, 5, 5)\n",
      "(992,)\n"
     ]
    }
   ],
   "source": [
    "import numpy as np\n",
    "X = np.array(X)\n",
    "y = np.array(y)\n",
    "print(X.shape)\n",
    "print(y.shape)"
   ]
  },
  {
   "cell_type": "markdown",
   "metadata": {},
   "source": [
    "## 构建网络"
   ]
  },
  {
   "cell_type": "code",
   "execution_count": null,
   "metadata": {},
   "outputs": [],
   "source": [
    "import tensorflow"
   ]
  },
  {
   "cell_type": "code",
   "execution_count": null,
   "metadata": {},
   "outputs": [],
   "source": []
  },
  {
   "cell_type": "code",
   "execution_count": null,
   "metadata": {},
   "outputs": [],
   "source": []
  }
 ],
 "metadata": {
  "kernelspec": {
   "display_name": "yk_lstm",
   "language": "python",
   "name": "python3"
  },
  "language_info": {
   "codemirror_mode": {
    "name": "ipython",
    "version": 3
   },
   "file_extension": ".py",
   "mimetype": "text/x-python",
   "name": "python",
   "nbconvert_exporter": "python",
   "pygments_lexer": "ipython3",
   "version": "3.7.0"
  }
 },
 "nbformat": 4,
 "nbformat_minor": 2
}
