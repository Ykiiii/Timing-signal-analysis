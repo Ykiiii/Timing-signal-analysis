{
 "cells": [
  {
   "cell_type": "code",
   "execution_count": null,
   "metadata": {},
   "outputs": [],
   "source": [
    "import pandas_datareader.data as web\n",
    "import datetime\n",
    "\n",
    "# 设置开始和结束日期\n",
    "start = datetime.datetime(2023, 1, 1)\n",
    "end = datetime.datetime(2024, 1, 1)\n",
    "\n",
    "# 获取指定时间段内的数据\n",
    "stock_data = web.DataReader('AAPL', 'yahoo', start, end)\n",
    "\n",
    "# 查看数据\n",
    "print(stock_data.head())"
   ]
  }
 ],
 "metadata": {
  "kernelspec": {
   "display_name": "yk_lstm",
   "language": "python",
   "name": "python3"
  },
  "language_info": {
   "codemirror_mode": {
    "name": "ipython",
    "version": 3
   },
   "file_extension": ".py",
   "mimetype": "text/x-python",
   "name": "python",
   "nbconvert_exporter": "python",
   "pygments_lexer": "ipython3",
   "version": "3.7.0"
  }
 },
 "nbformat": 4,
 "nbformat_minor": 2
}
